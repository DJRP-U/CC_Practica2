{
  "nbformat": 4,
  "nbformat_minor": 0,
  "metadata": {
    "colab": {
      "name": "Practica2.ipynb",
      "provenance": [],
      "collapsed_sections": [],
      "authorship_tag": "ABX9TyPnQrQWxjmF7dxOIGJKfScg",
      "include_colab_link": true
    },
    "kernelspec": {
      "name": "python3",
      "display_name": "Python 3"
    },
    "language_info": {
      "name": "python"
    }
  },
  "cells": [
    {
      "cell_type": "markdown",
      "metadata": {
        "id": "view-in-github",
        "colab_type": "text"
      },
      "source": [
        "<a href=\"https://colab.research.google.com/github/DJRP-U/CC_Practica2/blob/main/Practica2.ipynb\" target=\"_parent\"><img src=\"https://colab.research.google.com/assets/colab-badge.svg\" alt=\"Open In Colab\"/></a>"
      ]
    },
    {
      "cell_type": "markdown",
      "source": [
        "# **Complejidad Computacional: practica 2**\n",
        "\n",
        "Unidad: Complejidad Algorítmica\n",
        "\n",
        "Profesor: Luis Chamba-Eras\n",
        "\n",
        "Estudiante: Diego Riofrío"
      ],
      "metadata": {
        "id": "8cBVWxdVpeOX"
      }
    },
    {
      "cell_type": "markdown",
      "source": [
        "*Medicion temporal*"
      ],
      "metadata": {
        "id": "DeY29Q3lp0vh"
      }
    },
    {
      "cell_type": "markdown",
      "source": [
        "* Para determinar la medición temporal, calculamos la diferencia del tiempo previo y posterior de la ejecución del algoritmo."
      ],
      "metadata": {
        "id": "7VyhXBMMvqEP"
      }
    },
    {
      "cell_type": "code",
      "execution_count": 2,
      "metadata": {
        "colab": {
          "base_uri": "https://localhost:8080/"
        },
        "id": "sDLia0GtpXb-",
        "outputId": "bc85f75a-e69b-4dec-ec78-3229bbac1ccd"
      },
      "outputs": [
        {
          "output_type": "stream",
          "name": "stdout",
          "text": [
            "0.41779327392578125\n",
            "0.4388620853424072\n"
          ]
        }
      ],
      "source": [
        "import time\n",
        "\n",
        "def factorial(n):\n",
        "    respuesta = 1\n",
        "\n",
        "    while n > 1:\n",
        "        respuesta *= n\n",
        "        n -= 1\n",
        "\n",
        "    return respuesta\n",
        "\n",
        "\n",
        "def factorial_r(n):\n",
        "    if n == 1:\n",
        "        return 1\n",
        "\n",
        "    return n * factorial(n - 1)\n",
        "\n",
        "\n",
        "if __name__ == '__main__':\n",
        "    n = 40000\n",
        "\n",
        "    comienzo = time.time()\n",
        "    factorial(n)\n",
        "    final = time.time()\n",
        "    print(final - comienzo)\n",
        "\n",
        "    comienzo = time.time()\n",
        "    factorial_r(n)\n",
        "    final = time.time()\n",
        "    print(final - comienzo)"
      ]
    },
    {
      "cell_type": "markdown",
      "source": [
        "*Conteo abstracto de operación*"
      ],
      "metadata": {
        "id": "evpzkUxcqGUS"
      }
    },
    {
      "cell_type": "markdown",
      "source": [
        "* Con esta técnica, contamos los pasos que realiza nuestro algoritmo."
      ],
      "metadata": {
        "id": "KZssTcErv0Lw"
      }
    },
    {
      "cell_type": "code",
      "source": [
        "def f(x):\n",
        "\n",
        "    respuesta = 0\n",
        "\n",
        "    for i in range(1000):\n",
        "        respuesta += 1\n",
        "\n",
        "    for i in range(x):\n",
        "        respuesta += x\n",
        "\n",
        "    for i in range(x):\n",
        "        for j in range(x):\n",
        "            respuesta += 1\n",
        "            respuesta += 1\n",
        "    \n",
        "    return respuesta\n",
        "print(f(10))"
      ],
      "metadata": {
        "colab": {
          "base_uri": "https://localhost:8080/"
        },
        "id": "_4LHMBzVqJbR",
        "outputId": "d42e4b20-4e3e-4c3a-8841-8c28773e1b9f"
      },
      "execution_count": 9,
      "outputs": [
        {
          "output_type": "stream",
          "name": "stdout",
          "text": [
            "1300\n"
          ]
        }
      ]
    },
    {
      "cell_type": "markdown",
      "source": [
        "Notación asintótica"
      ],
      "metadata": {
        "id": "U_NLrawbr54b"
      }
    },
    {
      "cell_type": "markdown",
      "source": [
        "* Cuando hablamos de notación asintótica no importan las variaciones pequeñas, el enfoque se centra en lo que pasa conforme el tamaño del problema se acerca al infinito.\n",
        "tenemos que saber medir a nuestro algoritmo en el mejor, promedio y peor de los casos.\n",
        "\n",
        "* El Big O notation entra cuando debemos medir el peor de los casos, donde lo único que importa es el termino de mayor tamaño, sin importar las constantes que las acompañan."
      ],
      "metadata": {
        "id": "aGvAk7bzwRge"
      }
    },
    {
      "cell_type": "code",
      "source": [
        "# Ley de la suma\n",
        "\n",
        "def f(n):\n",
        "    for i in range(n):\n",
        "        print(i)\n",
        "\n",
        "    for i in range(n):\n",
        "        print(i)\n",
        "print(f(10))\n",
        "# En este caso el mayor término es n\n",
        "# O(n) + O(n) = O(n + n) = O(2n) = O(n)"
      ],
      "metadata": {
        "colab": {
          "base_uri": "https://localhost:8080/"
        },
        "id": "Q9WURKIor9Nc",
        "outputId": "415b823c-4885-4716-fd87-92ad365a8fa2"
      },
      "execution_count": 11,
      "outputs": [
        {
          "output_type": "stream",
          "name": "stdout",
          "text": [
            "0\n",
            "1\n",
            "2\n",
            "3\n",
            "4\n",
            "5\n",
            "6\n",
            "7\n",
            "8\n",
            "9\n",
            "0\n",
            "1\n",
            "2\n",
            "3\n",
            "4\n",
            "5\n",
            "6\n",
            "7\n",
            "8\n",
            "9\n",
            "None\n"
          ]
        }
      ]
    },
    {
      "cell_type": "markdown",
      "source": [
        "# **Algoritmos de búsqueda y ordenación**"
      ],
      "metadata": {
        "id": "8iaG_OeHsR6q"
      }
    },
    {
      "cell_type": "markdown",
      "source": [
        "*Búsqueda lineal*"
      ],
      "metadata": {
        "id": "wwthZfuhsdeX"
      }
    },
    {
      "cell_type": "markdown",
      "source": [
        "* Busca si un elemento se encuentra dentro de una lista, array o un sistema ordenado o no ordenado para poder determinar si el elemento se encuentra en el o forma parte de el."
      ],
      "metadata": {
        "id": "GG1Y9JnJxJk0"
      }
    },
    {
      "cell_type": "code",
      "source": [
        "import random\n",
        "\n",
        "def busqueda_lineal(lista, objetivo):\n",
        "    match = False\n",
        "\n",
        "    for elemento in lista: # O(n)\n",
        "        if elemento == objetivo:\n",
        "            match = True\n",
        "            break\n",
        "\n",
        "    return match\n",
        "\n",
        "\n",
        "if __name__ == '__main__':\n",
        "    tamano_de_lista = int(input('De que tamano sera la lista? '))\n",
        "    objetivo = int(input('Que numero quieres encontrar? '))\n",
        "\n",
        "    lista = [random.randint(0, 100) for i in range(tamano_de_lista)]\n",
        "\n",
        "    encontrado = busqueda_lineal(lista, objetivo)\n",
        "    print(lista)\n",
        "    print(f'El elemento {objetivo} {\"esta\" if encontrado else \"no esta\"} en la lista')"
      ],
      "metadata": {
        "colab": {
          "base_uri": "https://localhost:8080/"
        },
        "id": "Nd3oqpufslND",
        "outputId": "c3400da2-46a6-4098-f4b2-014a00582950"
      },
      "execution_count": 12,
      "outputs": [
        {
          "output_type": "stream",
          "name": "stdout",
          "text": [
            "De que tamano sera la lista? 12\n",
            "Que numero quieres encontrar? 6\n",
            "[8, 87, 67, 91, 95, 11, 51, 91, 47, 58, 67, 60]\n",
            "El elemento 6 no esta en la lista\n"
          ]
        }
      ]
    },
    {
      "cell_type": "markdown",
      "source": [
        "*Busqueda Binaria*"
      ],
      "metadata": {
        "id": "e5BgY8oLszW0"
      }
    },
    {
      "cell_type": "markdown",
      "source": [
        "La búsqueda binaria toma la estrategia \"Divide y vencerás\", la cual consiste en dividir el problema en 2 en cada iteración. Este algoritmo asume que la lista se encuentra ordenada, por lo que es necesario realizar este paso primero."
      ],
      "metadata": {
        "id": "9KoZFaDaysWP"
      }
    },
    {
      "cell_type": "code",
      "source": [
        "import random\n",
        "\n",
        "def busqueda_binaria(lista, comienzo, final, objetivo):    \n",
        "    print(f'buscando {objetivo} entre {lista[comienzo]} y {lista[final - 1]}')\n",
        "    if comienzo > final:\n",
        "        return False\n",
        "\n",
        "    medio = (comienzo + final) // 2\n",
        "\n",
        "    if lista[medio] == objetivo:\n",
        "        return True\n",
        "    elif lista[medio] < objetivo:\n",
        "        return busqueda_binaria(lista, medio + 1, final, objetivo)\n",
        "    else:\n",
        "        return busqueda_binaria(lista, comienzo, medio - 1, objetivo)\n",
        "\n",
        "\n",
        "if __name__ == '__main__':\n",
        "    tamano_de_lista = int(input('De que tamano es la lista? '))\n",
        "    objetivo = int(input('Que numero quieres encontrar? '))\n",
        "    lista = sorted([random.randint(0, 100) for i in range(tamano_de_lista)])\n",
        "    \n",
        "\n",
        "\n",
        "    encontrado = busqueda_binaria(lista, 0, len(lista), objetivo)\n",
        "\n",
        "    print(lista)\n",
        "    print(f'El elemento {objetivo} {\"esta\" if encontrado else \"no esta\"} en la lista')"
      ],
      "metadata": {
        "colab": {
          "base_uri": "https://localhost:8080/"
        },
        "id": "Evl7Oedms5Cz",
        "outputId": "7f13a04e-17a2-4fbc-b06e-b03dd8804858"
      },
      "execution_count": 25,
      "outputs": [
        {
          "output_type": "stream",
          "name": "stdout",
          "text": [
            "De que tamano es la lista? 20\n",
            "Que numero quieres encontrar? 6\n",
            "buscando 6 entre 1 y 99\n",
            "buscando 6 entre 1 y 50\n",
            "buscando 6 entre 1 y 8\n",
            "buscando 6 entre 1 y 99\n",
            "buscando 6 entre 7 y 99\n",
            "[1, 7, 8, 14, 27, 39, 48, 48, 50, 55, 58, 63, 63, 65, 67, 84, 84, 94, 97, 99]\n",
            "El elemento 6 no esta en la lista\n"
          ]
        }
      ]
    },
    {
      "cell_type": "markdown",
      "source": [
        "*Ordenamiento de burbuja*"
      ],
      "metadata": {
        "id": "6pX2piOstP85"
      }
    },
    {
      "cell_type": "markdown",
      "source": [
        "*  Es un algoritmo que recorre repetidamente una lista que necesita ordenarse. Compara elementos adyacentes y los intercambia si están en el orden incorrecto. Al final de las iteraciones la lista queda ordenada."
      ],
      "metadata": {
        "id": "wAq6ki52zpZh"
      }
    },
    {
      "cell_type": "code",
      "source": [
        "import random\n",
        "\n",
        "\n",
        "def ordenamiento_de_burbuja(lista):\n",
        "    n = len(lista)\n",
        "\n",
        "    for i in range(n):\n",
        "        for j in range(0, n - i - 1): # O(n) * O(n) = O(n * n) = O(n**2)\n",
        "\n",
        "            if lista[j] > lista[j + 1]:\n",
        "                lista[j], lista[j + 1] = lista[j + 1], lista[j]\n",
        "\n",
        "    return lista\n",
        "\n",
        "if __name__ == '__main__':\n",
        "    tamano_de_lista = int(input('De que tamano sera la lista? '))\n",
        "\n",
        "    lista = [random.randint(0, 100) for i in range(tamano_de_lista)]\n",
        "    print(lista)\n",
        "\n",
        "    lista_ordenada = ordenamiento_de_burbuja(lista)\n",
        "    print(lista_ordenada)"
      ],
      "metadata": {
        "colab": {
          "base_uri": "https://localhost:8080/"
        },
        "id": "Rj19cd4vtYWv",
        "outputId": "22bd9f9e-62b5-43f5-8a3c-cb91d611d8e2"
      },
      "execution_count": 14,
      "outputs": [
        {
          "output_type": "stream",
          "name": "stdout",
          "text": [
            "De que tamano sera la lista? 50\n",
            "[9, 94, 45, 52, 69, 52, 50, 23, 98, 31, 70, 85, 35, 61, 19, 25, 67, 44, 67, 73, 86, 19, 8, 37, 98, 89, 68, 24, 54, 35, 25, 1, 22, 66, 62, 58, 53, 11, 58, 100, 48, 37, 41, 68, 56, 41, 97, 50, 34, 32]\n",
            "[1, 8, 9, 11, 19, 19, 22, 23, 24, 25, 25, 31, 32, 34, 35, 35, 37, 37, 41, 41, 44, 45, 48, 50, 50, 52, 52, 53, 54, 56, 58, 58, 61, 62, 66, 67, 67, 68, 68, 69, 70, 73, 85, 86, 89, 94, 97, 98, 98, 100]\n"
          ]
        }
      ]
    },
    {
      "cell_type": "markdown",
      "source": [
        "*Ordenamiento por inserción*"
      ],
      "metadata": {
        "id": "TvV9gjQWtf6d"
      }
    },
    {
      "cell_type": "markdown",
      "source": [
        "* El Ordenamiento por inserción es intuitivo y fácil de implementar, pero es muy ineficiente para listas de gran tamaño. La idea de este algoritmo de ordenación consiste en ir insertando un elemento de la lista ó un arreglo en la parte ordenada de la misma, asumiendo que el primer elemento es la parte ordenada, el algoritmo ira comparando un elemento de la parte desordenada de la lista con los elementos de la parte ordenada, insertando el elemento en la posición correcta dentro de la parte ordenada, y así sucesivamente hasta obtener la lista ordenada."
      ],
      "metadata": {
        "id": "cQmkWm8Nz77q"
      }
    },
    {
      "cell_type": "code",
      "source": [
        "#Declaracion de Funciones\n",
        "def insercion(A):\n",
        "    for i in range(len(A)):\n",
        "        for j in range(i,0,-1):\n",
        "            if(A[j-1] > A[j]):\n",
        "                aux=A[j];\n",
        "                A[j]=A[j-1];\n",
        "                A[j-1]=aux;\n",
        "    print(A);\n",
        "\n",
        "if __name__ == '__main__':\n",
        "    tamano_de_lista = int(input('De que tamano sera la lista? '))\n",
        "\n",
        "    lista = [random.randint(0, 100) for i in range(tamano_de_lista)]\n",
        "    print(lista)\n",
        "\n",
        "    lista_ordenada = insercion(lista)\n",
        "    print(lista_ordenada)"
      ],
      "metadata": {
        "colab": {
          "base_uri": "https://localhost:8080/"
        },
        "id": "IdbYSrlaupvJ",
        "outputId": "24c493a6-b98e-4971-f558-dbe1cf1d2fc5"
      },
      "execution_count": 19,
      "outputs": [
        {
          "output_type": "stream",
          "name": "stdout",
          "text": [
            "De que tamano sera la lista? 50\n",
            "[44, 82, 13, 24, 65, 69, 96, 41, 78, 37, 23, 48, 23, 33, 26, 58, 83, 27, 72, 53, 69, 72, 47, 60, 23, 84, 26, 72, 97, 100, 75, 63, 62, 66, 8, 59, 63, 5, 32, 9, 35, 54, 62, 52, 79, 96, 18, 34, 66, 87]\n",
            "[5, 8, 9, 13, 18, 23, 23, 23, 24, 26, 26, 27, 32, 33, 34, 35, 37, 41, 44, 47, 48, 52, 53, 54, 58, 59, 60, 62, 62, 63, 63, 65, 66, 66, 69, 69, 72, 72, 72, 75, 78, 79, 82, 83, 84, 87, 96, 96, 97, 100]\n",
            "None\n"
          ]
        }
      ]
    },
    {
      "cell_type": "markdown",
      "source": [
        "*Ordenamiento por mezcla*"
      ],
      "metadata": {
        "id": "obU9vpBpvAn_"
      }
    },
    {
      "cell_type": "markdown",
      "source": [
        "* El Ordenamiento por mezcla divide una lista en partes iguales hasta que quedan sublistas de 1 o 0 elementos. Luego las recombina en forma ordenada."
      ],
      "metadata": {
        "id": "o2sSHTyc1JiA"
      }
    },
    {
      "cell_type": "code",
      "source": [
        "import random\n",
        "\n",
        "def ordenamiento_por_mezcla(lista):\n",
        "    if len(lista) > 1:\n",
        "        medio = len(lista) // 2\n",
        "        izquierda = lista[:medio]\n",
        "        derecha = lista[medio:]\n",
        "        print(izquierda, '*' * 5, derecha)\n",
        "\n",
        "        # llamada recursiva en cada mitad\n",
        "        ordenamiento_por_mezcla(izquierda)\n",
        "        ordenamiento_por_mezcla(derecha)\n",
        "\n",
        "        # Iteradores para recorrer las dos sublistas\n",
        "        i = 0\n",
        "        j = 0\n",
        "        # Iterador para la lista principal\n",
        "        k = 0\n",
        "\n",
        "        while i < len(izquierda) and j < len(derecha):\n",
        "            if izquierda[i] < derecha[j]:\n",
        "                lista[k] = izquierda[i]\n",
        "                i += 1\n",
        "            else:\n",
        "                lista[k] = derecha[j]\n",
        "                j += 1\n",
        "\n",
        "            k += 1\n",
        "\n",
        "        while i < len(izquierda):\n",
        "            lista[k] = izquierda[i]\n",
        "            i += 1\n",
        "            k +=1\n",
        "\n",
        "        while j < len(derecha):\n",
        "            lista[k] = derecha[j]\n",
        "            j += 1\n",
        "            k += 1\n",
        "        \n",
        "        print(f'izquierda {izquierda}, derecha {derecha}')\n",
        "        print(lista)\n",
        "        print('-' * 50)\n",
        "\n",
        "    return lista\n",
        "\n",
        "\n",
        "if __name__ == '__main__':\n",
        "    tamano_de_lista = int(input('De que tamano sera la lista? '))\n",
        "\n",
        "    lista = [random.randint(0, 100) for i in range(tamano_de_lista)]\n",
        "    print(lista)\n",
        "    print('-' * 20)\n",
        "\n",
        "    lista_ordenada = ordenamiento_por_mezcla(lista)\n",
        "    print(lista_ordenada)"
      ],
      "metadata": {
        "colab": {
          "base_uri": "https://localhost:8080/"
        },
        "id": "Kg47j1c_vOhk",
        "outputId": "290611b8-26ed-4593-a384-b9871507f723"
      },
      "execution_count": 21,
      "outputs": [
        {
          "output_type": "stream",
          "name": "stdout",
          "text": [
            "De que tamano sera la lista? 10\n",
            "[88, 42, 22, 63, 65, 29, 1, 67, 99, 87]\n",
            "--------------------\n",
            "[88, 42, 22, 63, 65] ***** [29, 1, 67, 99, 87]\n",
            "[88, 42] ***** [22, 63, 65]\n",
            "[88] ***** [42]\n",
            "izquierda [88], derecha [42]\n",
            "[42, 88]\n",
            "--------------------------------------------------\n",
            "[22] ***** [63, 65]\n",
            "[63] ***** [65]\n",
            "izquierda [63], derecha [65]\n",
            "[63, 65]\n",
            "--------------------------------------------------\n",
            "izquierda [22], derecha [63, 65]\n",
            "[22, 63, 65]\n",
            "--------------------------------------------------\n",
            "izquierda [42, 88], derecha [22, 63, 65]\n",
            "[22, 42, 63, 65, 88]\n",
            "--------------------------------------------------\n",
            "[29, 1] ***** [67, 99, 87]\n",
            "[29] ***** [1]\n",
            "izquierda [29], derecha [1]\n",
            "[1, 29]\n",
            "--------------------------------------------------\n",
            "[67] ***** [99, 87]\n",
            "[99] ***** [87]\n",
            "izquierda [99], derecha [87]\n",
            "[87, 99]\n",
            "--------------------------------------------------\n",
            "izquierda [67], derecha [87, 99]\n",
            "[67, 87, 99]\n",
            "--------------------------------------------------\n",
            "izquierda [1, 29], derecha [67, 87, 99]\n",
            "[1, 29, 67, 87, 99]\n",
            "--------------------------------------------------\n",
            "izquierda [22, 42, 63, 65, 88], derecha [1, 29, 67, 87, 99]\n",
            "[1, 22, 29, 42, 63, 65, 67, 87, 88, 99]\n",
            "--------------------------------------------------\n",
            "[1, 22, 29, 42, 63, 65, 67, 87, 88, 99]\n"
          ]
        }
      ]
    }
  ]
}